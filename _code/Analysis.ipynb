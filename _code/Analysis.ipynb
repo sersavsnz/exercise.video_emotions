{
 "cells": [
  {
   "cell_type": "code",
   "execution_count": 1,
   "id": "28c8bb15",
   "metadata": {},
   "outputs": [],
   "source": [
    "import pandas as pd\n",
    "import os\n",
    "import numpy as np"
   ]
  },
  {
   "cell_type": "code",
   "execution_count": 2,
   "id": "704538a2",
   "metadata": {},
   "outputs": [],
   "source": [
    "def data_path(i):\n",
    "\n",
    "    \"\"\" Returns path to video data \"\"\"\n",
    "\n",
    "    return  '../_data/realeyes_dsc_homework_video_{}.csv'.format(i)\n",
    "\n",
    "\n",
    "def load_data(path):\n",
    "\n",
    "    \"\"\" Load data \"\"\"\n",
    "\n",
    "    df1 = pd.read_csv(path(1))\n",
    "    df2 = pd.read_csv(path(2))\n",
    "    df3 = pd.read_csv(path(3))\n",
    "    df = pd.concat([df1, df2, df3], ignore_index=True)\n",
    "\n",
    "    df = df.sort_values(by=['video_id', 'subject_id', 'frame_no', 'millisecond_from_start'], ignore_index=True)\n",
    "\n",
    "    return df, df1, df2, df3\n"
   ]
  },
  {
   "cell_type": "markdown",
   "id": "baa24c6c",
   "metadata": {},
   "source": [
    "## Load data"
   ]
  },
  {
   "cell_type": "code",
   "execution_count": 3,
   "id": "eb947e8c",
   "metadata": {},
   "outputs": [
    {
     "data": {
      "text/html": [
       "<div>\n",
       "<style scoped>\n",
       "    .dataframe tbody tr th:only-of-type {\n",
       "        vertical-align: middle;\n",
       "    }\n",
       "\n",
       "    .dataframe tbody tr th {\n",
       "        vertical-align: top;\n",
       "    }\n",
       "\n",
       "    .dataframe thead th {\n",
       "        text-align: right;\n",
       "    }\n",
       "</style>\n",
       "<table border=\"1\" class=\"dataframe\">\n",
       "  <thead>\n",
       "    <tr style=\"text-align: right;\">\n",
       "      <th></th>\n",
       "      <th>video_id</th>\n",
       "      <th>subject_id</th>\n",
       "      <th>frame_no</th>\n",
       "      <th>millisecond_from_start</th>\n",
       "      <th>positive_1</th>\n",
       "      <th>positive_2</th>\n",
       "      <th>negative_1</th>\n",
       "      <th>negative_2</th>\n",
       "      <th>negative_3</th>\n",
       "    </tr>\n",
       "  </thead>\n",
       "  <tbody>\n",
       "    <tr>\n",
       "      <th>0</th>\n",
       "      <td>70728</td>\n",
       "      <td>12433421</td>\n",
       "      <td>1435</td>\n",
       "      <td>39</td>\n",
       "      <td>0.0</td>\n",
       "      <td>0.0</td>\n",
       "      <td>0.0</td>\n",
       "      <td>0.0</td>\n",
       "      <td>0.0</td>\n",
       "    </tr>\n",
       "    <tr>\n",
       "      <th>1</th>\n",
       "      <td>70728</td>\n",
       "      <td>12433421</td>\n",
       "      <td>1436</td>\n",
       "      <td>104</td>\n",
       "      <td>0.0</td>\n",
       "      <td>0.0</td>\n",
       "      <td>0.0</td>\n",
       "      <td>0.0</td>\n",
       "      <td>0.0</td>\n",
       "    </tr>\n",
       "    <tr>\n",
       "      <th>2</th>\n",
       "      <td>70728</td>\n",
       "      <td>12433421</td>\n",
       "      <td>1437</td>\n",
       "      <td>169</td>\n",
       "      <td>0.0</td>\n",
       "      <td>0.0</td>\n",
       "      <td>0.0</td>\n",
       "      <td>0.0</td>\n",
       "      <td>0.0</td>\n",
       "    </tr>\n",
       "    <tr>\n",
       "      <th>3</th>\n",
       "      <td>70728</td>\n",
       "      <td>12433421</td>\n",
       "      <td>1438</td>\n",
       "      <td>236</td>\n",
       "      <td>0.0</td>\n",
       "      <td>0.0</td>\n",
       "      <td>0.0</td>\n",
       "      <td>0.0</td>\n",
       "      <td>0.0</td>\n",
       "    </tr>\n",
       "    <tr>\n",
       "      <th>4</th>\n",
       "      <td>70728</td>\n",
       "      <td>12433421</td>\n",
       "      <td>1439</td>\n",
       "      <td>302</td>\n",
       "      <td>0.0</td>\n",
       "      <td>0.0</td>\n",
       "      <td>0.0</td>\n",
       "      <td>0.0</td>\n",
       "      <td>0.0</td>\n",
       "    </tr>\n",
       "  </tbody>\n",
       "</table>\n",
       "</div>"
      ],
      "text/plain": [
       "  video_id subject_id  frame_no  millisecond_from_start positive_1 positive_2  \\\n",
       "0    70728   12433421      1435                      39        0.0        0.0   \n",
       "1    70728   12433421      1436                     104        0.0        0.0   \n",
       "2    70728   12433421      1437                     169        0.0        0.0   \n",
       "3    70728   12433421      1438                     236        0.0        0.0   \n",
       "4    70728   12433421      1439                     302        0.0        0.0   \n",
       "\n",
       "  negative_1 negative_2 negative_3  \n",
       "0        0.0        0.0        0.0  \n",
       "1        0.0        0.0        0.0  \n",
       "2        0.0        0.0        0.0  \n",
       "3        0.0        0.0        0.0  \n",
       "4        0.0        0.0        0.0  "
      ]
     },
     "execution_count": 3,
     "metadata": {},
     "output_type": "execute_result"
    }
   ],
   "source": [
    "# load data\n",
    "\n",
    "df_all, df1, df2, df3 = load_data(data_path)\n",
    "columns = list(df1.columns)\n",
    "\n",
    "df_all.head()"
   ]
  },
  {
   "cell_type": "code",
   "execution_count": 4,
   "id": "624108b2",
   "metadata": {},
   "outputs": [
    {
     "name": "stdout",
     "output_type": "stream",
     "text": [
      "{'67928', 'No value'} {'70727', 'No value'} {70728}\n"
     ]
    }
   ],
   "source": [
    "# each file corresponds to only one video\n",
    "\n",
    "print(set(df1.video_id), set(df2.video_id), set(df3.video_id))"
   ]
  },
  {
   "cell_type": "code",
   "execution_count": 5,
   "id": "3f8fad8f",
   "metadata": {},
   "outputs": [
    {
     "name": "stdout",
     "output_type": "stream",
     "text": [
      "{'No value'}\n",
      "set()\n"
     ]
    }
   ],
   "source": [
    "# each subject watched only one video, so each video can be treated separately\n",
    "\n",
    "print(set(df1.subject_id) & set(df2.subject_id))\n",
    "print(set(df2.subject_id) & set(df3.subject_id))"
   ]
  },
  {
   "cell_type": "markdown",
   "id": "9894fb26",
   "metadata": {},
   "source": [
    "**Empty values**\n",
    "\n",
    "no Nan values, missing values are labeled as 'No value'."
   ]
  },
  {
   "cell_type": "code",
   "execution_count": 6,
   "id": "28cd1123",
   "metadata": {},
   "outputs": [
    {
     "data": {
      "text/plain": [
       "False"
      ]
     },
     "execution_count": 6,
     "metadata": {},
     "output_type": "execute_result"
    }
   ],
   "source": [
    "df_all.isnull().values.any()"
   ]
  },
  {
   "cell_type": "markdown",
   "id": "9f0769cd",
   "metadata": {},
   "source": [
    "Only non-numeric values is \"No value\". \n",
    "\n",
    "\n",
    "Values from sets {video_id, subject_id} and {emotions} are equal to 'No value' together. For example, \n",
    "if video_id = 'No value', then subject_id = 'No value' as well."
   ]
  },
  {
   "cell_type": "code",
   "execution_count": 7,
   "id": "bdd38dde",
   "metadata": {},
   "outputs": [],
   "source": [
    "\n",
    "def no_value(df):\n",
    "    \n",
    "    \"\"\" Shows non-numeric values and its count \"\"\"\n",
    "    \n",
    "    for column in columns:\n",
    "        idx = pd.to_numeric(df[column], errors='coerce').isna()\n",
    "        no_val = list(set(df[idx][column]))\n",
    "        no_val_len = len(df[idx][column])\n",
    "        print(no_val, \"{}%\".format(round(no_val_len/df.shape[0]*100)))"
   ]
  },
  {
   "cell_type": "code",
   "execution_count": 8,
   "id": "df19c0e2",
   "metadata": {},
   "outputs": [
    {
     "name": "stdout",
     "output_type": "stream",
     "text": [
      "video 1\n",
      "['No value'] 1%\n",
      "['No value'] 1%\n",
      "[] 0%\n",
      "[] 0%\n",
      "['No value'] 23%\n",
      "['No value'] 23%\n",
      "['No value'] 23%\n",
      "['No value'] 23%\n",
      "['No value'] 23%\n",
      "\n",
      "video 2\n",
      "['No value'] 1%\n",
      "['No value'] 1%\n",
      "[] 0%\n",
      "[] 0%\n",
      "['No value'] 26%\n",
      "['No value'] 26%\n",
      "['No value'] 26%\n",
      "['No value'] 26%\n",
      "['No value'] 26%\n",
      "\n",
      "video 3\n",
      "[] 0%\n",
      "[] 0%\n",
      "[] 0%\n",
      "[] 0%\n",
      "['No value'] 29%\n",
      "['No value'] 29%\n",
      "['No value'] 29%\n",
      "['No value'] 29%\n",
      "['No value'] 29%\n",
      "\n",
      "video all\n",
      "['No value'] 1%\n",
      "['No value'] 1%\n",
      "[] 0%\n",
      "[] 0%\n",
      "['No value'] 27%\n",
      "['No value'] 27%\n",
      "['No value'] 27%\n",
      "['No value'] 27%\n",
      "['No value'] 27%\n",
      "\n"
     ]
    }
   ],
   "source": [
    "print('video 1')\n",
    "no_value(df1)\n",
    "print('')\n",
    "\n",
    "print('video 2')\n",
    "no_value(df2)\n",
    "print('')\n",
    "\n",
    "print('video 3')\n",
    "no_value(df3)\n",
    "print('')\n",
    "\n",
    "print('video all')\n",
    "no_value(df_all)\n",
    "print('')"
   ]
  },
  {
   "cell_type": "markdown",
   "id": "a2b3e9f9",
   "metadata": {},
   "source": [
    "Replace missing values in video_id and subject_id by preceding values.\n",
    "\n",
    "Remove entries with missing emotions"
   ]
  },
  {
   "cell_type": "code",
   "execution_count": null,
   "id": "4b40a705",
   "metadata": {},
   "outputs": [],
   "source": [
    "# replace 'No value' in video_id & subject_id by preceding value\n",
    "\n",
    "df=df_all.copy()\n",
    "\n",
    "for col in ['video_id', 'subject_id']:\n",
    "    df[col] = pd.to_numeric(df[col], errors='coerce', downcast='integer')\n",
    "    df[col].fillna(method='ffill', inplace=True)\n",
    "    df[col] = df[col].astype('int32').astype('str')"
   ]
  },
  {
   "cell_type": "markdown",
   "id": "373f6449",
   "metadata": {},
   "source": [
    "Look at missing values distribution over subjects"
   ]
  },
  {
   "cell_type": "code",
   "execution_count": null,
   "id": "503a42e4",
   "metadata": {},
   "outputs": [],
   "source": [
    "df['no_value'] = df['positive_1'].apply(lambda x: 1 if str(x) == 'No value' else 0)\n",
    "df['num_missing_values_per_subject'] = df.groupby(by=['subject_id'])['no_value'].transform('sum')"
   ]
  },
  {
   "cell_type": "code",
   "execution_count": null,
   "id": "8f1e67e3",
   "metadata": {},
   "outputs": [],
   "source": [
    "df"
   ]
  },
  {
   "cell_type": "code",
   "execution_count": null,
   "id": "6be4feb1",
   "metadata": {},
   "outputs": [],
   "source": []
  },
  {
   "cell_type": "code",
   "execution_count": null,
   "id": "5ccdbb25",
   "metadata": {},
   "outputs": [],
   "source": [
    "def num_of_subjects(df):\n",
    "    return df['subject_id'].nunique()\n",
    "    \n",
    "print('Sample size per each video:', num_of_subjects(df1), num_of_subjects(df2), num_of_subjects(df3))"
   ]
  },
  {
   "cell_type": "code",
   "execution_count": null,
   "id": "f0dcad97",
   "metadata": {},
   "outputs": [],
   "source": []
  },
  {
   "cell_type": "code",
   "execution_count": null,
   "id": "41a06bb2",
   "metadata": {},
   "outputs": [],
   "source": []
  },
  {
   "cell_type": "markdown",
   "id": "7a718877",
   "metadata": {},
   "source": [
    "## Process data"
   ]
  },
  {
   "cell_type": "code",
   "execution_count": null,
   "id": "c4e2af30",
   "metadata": {},
   "outputs": [],
   "source": []
  }
 ],
 "metadata": {
  "kernelspec": {
   "display_name": "Python 3",
   "language": "python",
   "name": "python3"
  },
  "language_info": {
   "codemirror_mode": {
    "name": "ipython",
    "version": 3
   },
   "file_extension": ".py",
   "mimetype": "text/x-python",
   "name": "python",
   "nbconvert_exporter": "python",
   "pygments_lexer": "ipython3",
   "version": "3.8.5"
  }
 },
 "nbformat": 4,
 "nbformat_minor": 5
}
